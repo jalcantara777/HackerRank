{
 "cells": [
  {
   "cell_type": "markdown",
   "metadata": {},
   "source": [
    "#### **TASK**\n",
    "\n",
    "Given an integer, , and  space-separated integers as input, create a tuple, , of those  integers. Then compute and print the result of hash().\n",
    "\n",
    "<u>Note</u>: *hash()* is one of the functions in the __builtins__ module, so it need not be imported.\n",
    "\n",
    "**Input Format**\n",
    "The first line contains an integer, , denoting the number of elements in the tuple.\n",
    "The second line contains  space-separated integers describing the elements in tuple .\n",
    "\n",
    "**Output Format**\n",
    "Print the result of hash().\n",
    "\n",
    "**Sample Input 0**\n",
    "<p>2</p>\n",
    "1 2"
   ]
  },
  {
   "cell_type": "code",
   "execution_count": 1,
   "metadata": {},
   "outputs": [
    {
     "name": "stdout",
     "output_type": "stream",
     "text": [
      "-3550055125485641917\n"
     ]
    }
   ],
   "source": [
    "n = int(input())\n",
    "integer_list = map(int, input().split())\n",
    "t=tuple(integer_list)\n",
    "print(hash(t))"
   ]
  },
  {
   "cell_type": "markdown",
   "metadata": {},
   "source": [
    "***DISCLAIMER:***\n",
    "\n",
    "Para la página de Hacker Rank, la respuesta era 3713081631934410656 y no -3550055125485641917 como sale aquí. Esto ocurre por la diferencia en las versiones del KERNEL de PYTHON, el mío que imprime el 2do valor es con Python 3.11.4; en cambio, el primer valor es con Pypy 3."
   ]
  }
 ],
 "metadata": {
  "kernelspec": {
   "display_name": "Python 3",
   "language": "python",
   "name": "python3"
  },
  "language_info": {
   "codemirror_mode": {
    "name": "ipython",
    "version": 3
   },
   "file_extension": ".py",
   "mimetype": "text/x-python",
   "name": "python",
   "nbconvert_exporter": "python",
   "pygments_lexer": "ipython3",
   "version": "3.11.4"
  }
 },
 "nbformat": 4,
 "nbformat_minor": 2
}
