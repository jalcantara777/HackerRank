{
 "cells": [
  {
   "cell_type": "markdown",
   "metadata": {},
   "source": [
    "## ***LINEAR ALBEGRA***\n",
    "\n",
    "The NumPy module also comes with a number of built-in routines for linear algebra calculations. These can be found in the sub-module linalg.\n",
    "\n",
    "***linalg.det***\n",
    "\n",
    "The linalg.det tool computes the determinant of an array.\n",
    "\n",
    "print numpy.linalg.det([[1 , 2], [2, 1]])       #Output : -3.0\n",
    "\n",
    "***linalg.eig***\n",
    "\n",
    "The linalg.eig computes the eigenvalues and right eigenvectors of a square array.\n",
    "\n",
    "vals, vecs = numpy.linalg.eig([[1 , 2], [2, 1]])\n",
    "print vals                                      #Output : [ 3. -1.]\n",
    "print vecs                                      #Output : [[ 0.70710678 -0.70710678]\n",
    "                                                #          [ 0.70710678  0.70710678]]\n",
    "\n",
    "***linalg.inv***\n",
    "\n",
    "The linalg.inv tool computes the (multiplicative) inverse of a matrix.\n",
    "\n",
    "print numpy.linalg.inv([[1 , 2], [2, 1]])       #Output : [[-0.33333333  0.66666667]\n",
    "                                                #          [ 0.66666667 -0.33333333]]\n",
    "Other routines can be found here\n",
    "\n",
    "## **TASK**\n",
    "\n",
    "You are given a square matrix  with dimensions X. Your task is to find the determinant. Note: Round the answer to 2 places after the decimal.\n",
    "\n",
    "**Input Format**\n",
    "\n",
    "The first line contains the integer *N*.\n",
    "The next *N* lines contains the  space separated elements of array *A*.\n",
    "\n",
    "**Output Format**\n",
    "\n",
    "Print the determinant of .\n",
    "\n",
    "**Sample Input**\n",
    "\n",
    "2 //\n",
    "1.1 1.1 //\n",
    "1.1 1.1\n",
    "\n",
    "**Sample Output**\n",
    "\n",
    "0.0"
   ]
  },
  {
   "cell_type": "code",
   "execution_count": 1,
   "metadata": {},
   "outputs": [],
   "source": [
    "import numpy as np\n"
   ]
  },
  {
   "cell_type": "code",
   "execution_count": 2,
   "metadata": {},
   "outputs": [],
   "source": [
    "k=int(input())\n",
    "lstmat=[]\n",
    "for i in range(k):\n",
    "    lstmat.append(list(float(x) for x in input().split()))\n",
    "print(np.linalg.det(lstmat))"
   ]
  }
 ],
 "metadata": {
  "kernelspec": {
   "display_name": "Python 3",
   "language": "python",
   "name": "python3"
  },
  "language_info": {
   "codemirror_mode": {
    "name": "ipython",
    "version": 3
   },
   "file_extension": ".py",
   "mimetype": "text/x-python",
   "name": "python",
   "nbconvert_exporter": "python",
   "pygments_lexer": "ipython3",
   "version": "3.11.4"
  }
 },
 "nbformat": 4,
 "nbformat_minor": 2
}
