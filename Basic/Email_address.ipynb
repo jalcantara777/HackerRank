{
 "cells": [
  {
   "cell_type": "markdown",
   "metadata": {},
   "source": [
    "### ***EMAIL CRITERIA***\n",
    "\n",
    "A valid email address meets the following criteria:\n",
    "\n",
    "It's composed of a username, domain name, and extension assembled in this format: username@domain.extension\n",
    "The username starts with an English alphabetical character, and any subsequent characters consist of one or more of the following: alphanumeric characters, -,., and _.\n",
    "The domain and extension contain only English alphabetical characters.\n",
    "The extension is 1, 2, or 3 characters in length.\n",
    "Given ***n*** pairs of names and email addresses as input, print each name and email address pair having a valid email address on a new line.\n",
    "\n",
    "***Hint***: Try using Email.utils() to complete this challenge. For example, this code:\n",
    "\n",
    "import email.utils\n",
    "print email.utils.parseaddr('DOSHI <DOSHI@hackerrank.com>')\n",
    "print email.utils.formataddr(('DOSHI', 'DOSHI@hackerrank.com'))\n",
    "produces this output:\n",
    "\n",
    "('DOSHI', 'DOSHI@hackerrank.com')\n",
    "DOSHI <DOSHI@hackerrank.com>\n",
    "\n",
    "### **TASK**\n",
    "\n",
    "You must print each valid email address in the same order as it was received as input.\n",
    "\n",
    "**Input Format**\n",
    "\n",
    "The first line contains a single integer ***n***, denoting the number of email address.\n",
    "Each line ***i*** of the ***n*** subsequent lines contains a name and an email address as two space-separated values following this format:\n",
    "\n",
    "name <user@email.com>\n",
    "\n",
    "**Constraints**\n",
    "\n",
    "0 < n < 100\n",
    "\n",
    "**Output Format**\n",
    "\n",
    "Print the space-separated name and email address pairs containing valid email addresses only. Each pair must be printed on a new line in the following format:\n",
    "\n",
    "name <user@email.com>\n",
    "\n",
    "**Sample Input**\n",
    "\n",
    "2 /\n",
    "DEXTER <dexter@hotmail.com> /\n",
    "VIRUS <virus!@variable.:p>\n",
    "\n",
    "**Sample Output**\n",
    "\n",
    "DEXTER <dexter@hotmail.com>\n",
    "\n",
    "**Explanation**\n",
    "\n",
    "dexter@hotmail.com is a valid email address, so we print the name and email address pair received as input on a new line.\n",
    "virus!@variable.:p is not a valid email address because the username contains an exclamation point (!) and the extension contains a colon (:). As this email is not valid, we print nothing."
   ]
  },
  {
   "cell_type": "code",
   "execution_count": 1,
   "metadata": {},
   "outputs": [],
   "source": [
    "import email.utils"
   ]
  },
  {
   "cell_type": "code",
   "execution_count": 3,
   "metadata": {},
   "outputs": [
    {
     "name": "stdout",
     "output_type": "stream",
     "text": [
      "('DOSHI', 'DOSHI@hackerrank.com')\n"
     ]
    }
   ],
   "source": [
    "print(email.utils.parseaddr('DOSHI <DOSHI@hackerrank.com>'))\n"
   ]
  },
  {
   "cell_type": "code",
   "execution_count": 5,
   "metadata": {},
   "outputs": [
    {
     "data": {
      "text/plain": [
       "tuple"
      ]
     },
     "execution_count": 5,
     "metadata": {},
     "output_type": "execute_result"
    }
   ],
   "source": [
    "type(email.utils.parseaddr('DOSHI <DOSHI@hackerrank.com>'))"
   ]
  },
  {
   "cell_type": "code",
   "execution_count": 4,
   "metadata": {},
   "outputs": [
    {
     "name": "stdout",
     "output_type": "stream",
     "text": [
      "DOSHI <DOSHI@hackerrank.com>\n"
     ]
    }
   ],
   "source": [
    "print(email.utils.formataddr(('DOSHI', 'DOSHI@hackerrank.com')))"
   ]
  },
  {
   "cell_type": "code",
   "execution_count": 6,
   "metadata": {},
   "outputs": [
    {
     "data": {
      "text/plain": [
       "str"
      ]
     },
     "execution_count": 6,
     "metadata": {},
     "output_type": "execute_result"
    }
   ],
   "source": [
    "type(email.utils.formataddr(('DOSHI', 'DOSHI@hackerrank.com')))"
   ]
  },
  {
   "cell_type": "code",
   "execution_count": 11,
   "metadata": {},
   "outputs": [
    {
     "data": {
      "text/plain": [
       "False"
      ]
     },
     "execution_count": 11,
     "metadata": {},
     "output_type": "execute_result"
    }
   ],
   "source": [
    "'asf-123'.isalnum()"
   ]
  },
  {
   "cell_type": "code",
   "execution_count": null,
   "metadata": {},
   "outputs": [],
   "source": []
  },
  {
   "cell_type": "code",
   "execution_count": 38,
   "metadata": {},
   "outputs": [
    {
     "name": "stdout",
     "output_type": "stream",
     "text": [
      "user: harsh | eaddress: <harsh_1234@rediff.in>\n",
      "eaddress: harsh_1234@rediff.in | x_arroba: 10 | x_punto: 17\n",
      "name: harsh_1234 | domain: rediff | extension: in\n",
      "harsh <harsh_1234@rediff.in>\n"
     ]
    }
   ],
   "source": [
    "n = int(input())\n",
    "for i in range(n):\n",
    "    str_input     = input()\n",
    "    user,eaddress = str_input.split()\n",
    "    if not ('@' or '.') in eaddress:\n",
    "        break\n",
    "    print(f'user: {user} | eaddress: {eaddress}')\n",
    "    eaddress = eaddress[1:len(eaddress)-1]\n",
    "    x_arroba = eaddress.find('@')\n",
    "    x_punto  = eaddress[x_arroba+1:].find('.')+x_arroba+1\n",
    "    name     = eaddress[0:x_arroba]\n",
    "    domain   = eaddress[x_arroba+1:x_punto]\n",
    "    extension= eaddress[x_punto+1:]\n",
    "    print(f'eaddress: {eaddress} | x_arroba: {x_arroba} | x_punto: {x_punto}')\n",
    "    print(f'name: {name} | domain: {domain} | extension: {extension}')\n",
    "    if len(extension)>3:\n",
    "        break\n",
    "    if name[0].isalpha() and (name.isalpha() or (('-' in name) or ('_' in name) or ('.' in name))) and domain.isalpha() and extension.isalpha():\n",
    "        print(user+' <'+name+'@'+domain+'.'+extension+'>')"
   ]
  },
  {
   "cell_type": "code",
   "execution_count": 53,
   "metadata": {},
   "outputs": [
    {
     "name": "stdout",
     "output_type": "stream",
     "text": [
      "kumal <kunal_shin@iop.az>\n"
     ]
    }
   ],
   "source": [
    "n = int(input())\n",
    "for i in range(n):\n",
    "    str_input     = input()\n",
    "    user,eaddress = str_input.split()\n",
    "    if ('@' or '.') in eaddress:\n",
    "        eaddress = eaddress[1:len(eaddress)-1]\n",
    "        x_arroba = eaddress.find('@')\n",
    "        x_punto  = eaddress[x_arroba+1:].find('.')+x_arroba+1\n",
    "        name     = eaddress[0:x_arroba]\n",
    "        domain   = eaddress[x_arroba+1:x_punto]\n",
    "        extension= eaddress[x_punto+1:]\n",
    "        if name[0].isalpha() and (name.isalpha() or (('-' in name) or ('_' in name) or ('.' in name))) and domain.isalpha() and extension.isalpha() and len(extension)<4:\n",
    "            print(user+' <'+name+'@'+domain+'.'+extension+'>')"
   ]
  }
 ],
 "metadata": {
  "kernelspec": {
   "display_name": "Python 3",
   "language": "python",
   "name": "python3"
  },
  "language_info": {
   "codemirror_mode": {
    "name": "ipython",
    "version": 3
   },
   "file_extension": ".py",
   "mimetype": "text/x-python",
   "name": "python",
   "nbconvert_exporter": "python",
   "pygments_lexer": "ipython3",
   "version": "3.11.4"
  }
 },
 "nbformat": 4,
 "nbformat_minor": 2
}
