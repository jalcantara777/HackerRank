{
 "cells": [
  {
   "cell_type": "markdown",
   "metadata": {},
   "source": [
    "### **TASK**\n",
    "\n",
    "You are given a string .\n",
    "Your task is to find out if the string  contains: alphanumeric characters, alphabetical characters, digits, lowercase and uppercase characters.\n",
    "\n",
    "**Input Format**\n",
    "\n",
    "A single line containing a string .\n",
    "\n",
    "**Constraints**\n",
    "\n",
    "0 < len(s) < 1000\n",
    "\n",
    "**Output Format**\n",
    "\n",
    "In the first line, print True if  has any alphanumeric characters. Otherwise, print False.\n",
    "In the second line, print True if  has any alphabetical characters. Otherwise, print False.\n",
    "In the third line, print True if  has any digits. Otherwise, print False.\n",
    "In the fourth line, print True if  has any lowercase characters. Otherwise, print False.\n",
    "In the fifth line, print True if  has any uppercase characters. Otherwise, print False.\n",
    "\n",
    "**Sample Input**\n",
    "\n",
    "qA2\n",
    "\n",
    "**Sample Output**\n",
    "\n",
    "True / \n",
    "True / \n",
    "True / \n",
    "True / \n",
    "True"
   ]
  },
  {
   "cell_type": "code",
   "execution_count": 3,
   "metadata": {},
   "outputs": [
    {
     "name": "stdout",
     "output_type": "stream",
     "text": [
      "True\n",
      "True\n",
      "True\n",
      "True\n",
      "True\n"
     ]
    }
   ],
   "source": [
    "s=input()\n",
    "isalphanum = isalph= isdig = islow = isupp = False\n",
    "for i in range(len(s)):\n",
    "    char=s[i]\n",
    "    if char.isalnum():\n",
    "        isalphanum=True\n",
    "    if char.isalpha():\n",
    "        isalph=True\n",
    "    if char.isdigit():\n",
    "        isdig=True\n",
    "    if char.islower():\n",
    "        islow=True\n",
    "    if char.isupper():\n",
    "        isupp=True\n",
    "print(isalphanum)\n",
    "print(isalph)\n",
    "print(isdig)\n",
    "print(islow)\n",
    "print(isupp)\n"
   ]
  }
 ],
 "metadata": {
  "kernelspec": {
   "display_name": "Python 3",
   "language": "python",
   "name": "python3"
  },
  "language_info": {
   "codemirror_mode": {
    "name": "ipython",
    "version": 3
   },
   "file_extension": ".py",
   "mimetype": "text/x-python",
   "name": "python",
   "nbconvert_exporter": "python",
   "pygments_lexer": "ipython3",
   "version": "3.11.4"
  }
 },
 "nbformat": 4,
 "nbformat_minor": 2
}
