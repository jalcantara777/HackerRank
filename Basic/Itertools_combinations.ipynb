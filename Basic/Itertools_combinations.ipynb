{
 "cells": [
  {
   "cell_type": "markdown",
   "metadata": {},
   "source": [
    "### ***itertools.combinations(iterable, r)***\n",
    "\n",
    "This tool returns the  length subsequences of elements from the input iterable.\n",
    "\n",
    "Combinations are emitted in lexicographic sorted order. So, if the input iterable is sorted, the combination tuples will be produced in sorted order.\n",
    "\n",
    "***Sample Code***\n",
    "\n",
    ">>> from itertools import combinations\n",
    ">>> \n",
    ">>> print list(combinations('12345',2))\n",
    "[('1', '2'), ('1', '3'), ('1', '4'), ('1', '5'), ('2', '3'), ('2', '4'), ('2', '5'), ('3', '4'), ('3', '5'), ('4', '5')]\n",
    ">>> \n",
    ">>> A = [1,1,3,3,3]\n",
    ">>> print list(combinations(A,4))\n",
    "[(1, 1, 3, 3), (1, 1, 3, 3), (1, 1, 3, 3), (1, 3, 3, 3), (1, 3, 3, 3)]\n",
    "\n",
    "### **TASK**\n",
    "\n",
    "You are given a string *S*.\n",
    "Your task is to print all possible combinations, up to size *K*, of the string in lexicographic sorted order.\n",
    "\n",
    "**Input Format**\n",
    "\n",
    "A single line containing the string S and integer value K separated by a space.\n",
    "\n",
    "**Constraints**\n",
    "\n",
    "0 < k <= len (S)\n",
    "\n",
    "The string contains only UPPERCASE characters.\n",
    "\n",
    "**Output Format**\n",
    "\n",
    "Print the different combinations of string  on separate lines.\n",
    "\n",
    "**Sample Input**\n",
    "\n",
    "HACK 2\n",
    "\n",
    "**Sample Output**\n",
    "\n",
    "A\n",
    "C\n",
    "H\n",
    "K\n",
    "AC\n",
    "AH\n",
    "AK\n",
    "CH\n",
    "CK\n",
    "HK"
   ]
  },
  {
   "cell_type": "code",
   "execution_count": 1,
   "metadata": {},
   "outputs": [],
   "source": [
    "from itertools import combinations"
   ]
  },
  {
   "cell_type": "code",
   "execution_count": 2,
   "metadata": {},
   "outputs": [
    {
     "name": "stdout",
     "output_type": "stream",
     "text": [
      "A\n",
      "C\n",
      "H\n",
      "K\n",
      "AC\n",
      "AK\n",
      "CK\n",
      "HA\n",
      "HC\n",
      "HK\n"
     ]
    }
   ],
   "source": [
    "cad,k=input().split()\n",
    "cad=cad.upper()\n",
    "k=int(k)\n",
    "lst2ret=[]\n",
    "for i in range(k):\n",
    "    lstcomb= list(combinations(cad,i+1))\n",
    "    lstcomb.sort()\n",
    "    for j in range(len(lstcomb)):\n",
    "        cadaux=''.join(str(x) for x in lstcomb[j])\n",
    "        lst2ret.append(cadaux)\n",
    "for i in range(len(lst2ret)):\n",
    "    print(lst2ret[i])"
   ]
  }
 ],
 "metadata": {
  "kernelspec": {
   "display_name": "Python 3",
   "language": "python",
   "name": "python3"
  },
  "language_info": {
   "codemirror_mode": {
    "name": "ipython",
    "version": 3
   },
   "file_extension": ".py",
   "mimetype": "text/x-python",
   "name": "python",
   "nbconvert_exporter": "python",
   "pygments_lexer": "ipython3",
   "version": "3.11.4"
  }
 },
 "nbformat": 4,
 "nbformat_minor": 2
}
