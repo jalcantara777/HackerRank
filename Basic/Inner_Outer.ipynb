{
 "cells": [
  {
   "cell_type": "markdown",
   "metadata": {},
   "source": [
    "### **INNER & OUTPUT**\n",
    "\n",
    "If, \n",
    "- *import numpy*\n",
    "- A = numpy.array([0, 1])\n",
    "- B = numpy.array([3, 4])\n",
    "\n",
    "The ***inner tool*** returns the inner product of two arrays.\n",
    "\n",
    "print numpy.inner(A, B)\n",
    "\n",
    "     #Output : 4\n",
    "\n",
    "The ***outer tool*** returns the outer product of two arrays.\n",
    "\n",
    "print numpy.outer(A, B)\n",
    "\n",
    "-     #Output : [[0 0]\n",
    "-     #         [3 4]]\n",
    "\n",
    "### **TASK**\n",
    "\n",
    "You are given two arrays: *A* and *B*.\n",
    "Your task is to compute their inner and outer product.\n",
    "\n",
    "**Input Format**\n",
    "\n",
    "The first line contains the space separated elements of array .\n",
    "The second line contains the space separated elements of array .\n",
    "\n",
    "**Output Format**\n",
    "\n",
    "First, print the inner product.\n",
    "Second, print the outer product.\n",
    "\n",
    "**Sample Input**\n",
    "\n",
    "0 1 //\n",
    "2 3\n",
    "\n",
    "**Sample Output**\n",
    "\n",
    "3 //\n",
    "[[0 0]\n",
    " [2 3]]"
   ]
  }
 ],
 "metadata": {
  "language_info": {
   "name": "python"
  }
 },
 "nbformat": 4,
 "nbformat_minor": 2
}
