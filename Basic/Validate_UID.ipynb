{
 "cells": [
  {
   "cell_type": "markdown",
   "metadata": {},
   "source": [
    "### **TASK**\n",
    "\n",
    "ABCXYZ company has up to 100 employees.\n",
    "The company decides to create a unique identification number (UID) for each of its employees.\n",
    "The company has assigned you the task of validating all the randomly generated UIDs.\n",
    "\n",
    "A valid UID must follow the rules below:\n",
    "\n",
    "It must contain at least  uppercase English alphabet characters.\n",
    "It must contain at least  digits (0 - 9).\n",
    "It should only contain alphanumeric characters (a - z, A - Z & 0 - 9).\n",
    "No character should repeat.\n",
    "There must be exactly 10 characters in a valid UID.\n",
    "\n",
    "**Input Format**\n",
    "\n",
    "The first line contains an integer *T*, the number of test cases.\n",
    "The next *T* lines contains an employee's UID.\n",
    "\n",
    "**Output Format**\n",
    "\n",
    "For each test case, print 'Valid' if the UID is valid. Otherwise, print 'Invalid', on separate lines. Do not print the quotation marks.\n",
    "\n",
    "**Sample Input**\n",
    "\n",
    "2\n",
    "B1CD102354\n",
    "B1CDEF2354\n",
    "\n",
    "**Sample Output**\n",
    "\n",
    "Invalid\n",
    "Valid\n",
    "\n",
    "**Explanation**\n",
    "\n",
    "B1CD102354: 1 is repeating → Invalid\n",
    "B1CDEF2354: Valid"
   ]
  },
  {
   "cell_type": "code",
   "execution_count": 11,
   "metadata": {},
   "outputs": [
    {
     "name": "stdout",
     "output_type": "stream",
     "text": [
      "Invalid\n",
      "Valid\n"
     ]
    }
   ],
   "source": [
    "for i in range(int(input())):\n",
    "    str_UID = input().upper()\n",
    "    val_UID = False\n",
    "    if len(str_UID)==10 and str_UID.isalnum():\n",
    "        val_UID=True\n",
    "        for j in range(10):\n",
    "            char=str_UID[j]\n",
    "            if str_UID.count(char)>1:\n",
    "                val_UID=False\n",
    "    if val_UID:\n",
    "        print('Valid')\n",
    "    else:\n",
    "        print('Invalid')"
   ]
  }
 ],
 "metadata": {
  "kernelspec": {
   "display_name": "Python 3",
   "language": "python",
   "name": "python3"
  },
  "language_info": {
   "codemirror_mode": {
    "name": "ipython",
    "version": 3
   },
   "file_extension": ".py",
   "mimetype": "text/x-python",
   "name": "python",
   "nbconvert_exporter": "python",
   "pygments_lexer": "ipython3",
   "version": "3.11.4"
  }
 },
 "nbformat": 4,
 "nbformat_minor": 2
}
