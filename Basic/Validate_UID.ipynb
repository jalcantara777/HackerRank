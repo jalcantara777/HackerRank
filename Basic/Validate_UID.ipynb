{
 "cells": [
  {
   "cell_type": "markdown",
   "metadata": {},
   "source": [
    "### **TASK**\n",
    "\n",
    "ABCXYZ company has up to 100 employees.\n",
    "The company decides to create a unique identification number (UID) for each of its employees.\n",
    "The company has assigned you the task of validating all the randomly generated UIDs.\n",
    "\n",
    "A valid UID must follow the rules below:\n",
    "\n",
    "It must contain at least  uppercase English alphabet characters.\n",
    "It must contain at least  digits (0 - 9).\n",
    "It should only contain alphanumeric characters (a - z, A - Z & 0 - 9).\n",
    "No character should repeat.\n",
    "There must be exactly 10 characters in a valid UID.\n",
    "\n",
    "**Input Format**\n",
    "\n",
    "The first line contains an integer *T*, the number of test cases.\n",
    "The next *T* lines contains an employee's UID.\n",
    "\n",
    "**Output Format**\n",
    "\n",
    "For each test case, print 'Valid' if the UID is valid. Otherwise, print 'Invalid', on separate lines. Do not print the quotation marks.\n",
    "\n",
    "**Sample Input**\n",
    "\n",
    "2\n",
    "B1CD102354\n",
    "B1CDEF2354\n",
    "\n",
    "**Sample Output**\n",
    "\n",
    "Invalid\n",
    "Valid\n",
    "\n",
    "**Explanation**\n",
    "\n",
    "B1CD102354: 1 is repeating → Invalid\n",
    "B1CDEF2354: Valid"
   ]
  },
  {
   "cell_type": "code",
   "execution_count": null,
   "metadata": {},
   "outputs": [],
   "source": []
  }
 ],
 "metadata": {
  "language_info": {
   "name": "python"
  }
 },
 "nbformat": 4,
 "nbformat_minor": 2
}
