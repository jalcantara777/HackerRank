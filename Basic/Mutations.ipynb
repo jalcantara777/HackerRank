{
 "cells": [
  {
   "cell_type": "markdown",
   "metadata": {},
   "source": [
    "### **TASK**\n",
    "\n",
    "Read a given string, change the character at a given index and then print the modified string.\n",
    "\n",
    "**Function Description**\n",
    "\n",
    "Complete the <u>mutate_string</u> function in the editor below.\n",
    "\n",
    "<u>mutate_string</u> has the following parameters:\n",
    "\n",
    "***string*** *string*: the string to change.\n",
    "***int*** *position*: the index to insert the character at.\n",
    "***string*** *character*: the character to insert.\n",
    "\n",
    "**Returns**\n",
    "\n",
    "string: the altered string\n",
    "\n",
    "**Input Format**\n",
    "\n",
    "The first line contains a string, .\n",
    "The next line contains an integer , the index location and a string , separated by a space.\n",
    "\n",
    "**Sample Input**\n",
    "\n",
    "STDIN           Function\n",
    "-----           --------\n",
    "abracadabra     s = 'abracadabra'\n",
    "\n",
    "5 k             position = 5, character = 'k'"
   ]
  },
  {
   "cell_type": "code",
   "execution_count": 1,
   "metadata": {},
   "outputs": [
    {
     "name": "stdout",
     "output_type": "stream",
     "text": [
      "horse\n"
     ]
    }
   ],
   "source": [
    "def mutate_string(string, position, character):\n",
    "    lstaux = list(string)\n",
    "    lstaux[position]=character\n",
    "    strnew = ''.join(lstaux)\n",
    "    return strnew\n",
    "\n",
    "if __name__ == '__main__':\n",
    "    s = input()\n",
    "    i, c = input().split()\n",
    "    s_new = mutate_string(s, int(i), c)\n",
    "    print(s_new)"
   ]
  }
 ],
 "metadata": {
  "kernelspec": {
   "display_name": "Python 3",
   "language": "python",
   "name": "python3"
  },
  "language_info": {
   "codemirror_mode": {
    "name": "ipython",
    "version": 3
   },
   "file_extension": ".py",
   "mimetype": "text/x-python",
   "name": "python",
   "nbconvert_exporter": "python",
   "pygments_lexer": "ipython3",
   "version": "3.11.4"
  }
 },
 "nbformat": 4,
 "nbformat_minor": 2
}
