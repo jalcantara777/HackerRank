{
 "cells": [
  {
   "cell_type": "markdown",
   "metadata": {},
   "source": [
    "#### ***ITERTOOLS.PRODUCT***\n",
    "\n",
    "This tools computes the cartesian product of input iterables.\n",
    "It's equivalent to nested for-loops.\n",
    "For example, product(A, B) returns the same as ((x,y) for x in A for y in B).\n",
    "\n",
    ">>> from itertools import product\n",
    ">>>\n",
    ">>> print list(product([1,2,3],repeat = 2))\n",
    "[(1, 1), (1, 2), (1, 3), (2, 1), (2, 2), (2, 3), (3, 1), (3, 2), (3, 3)]\n",
    ">>>\n",
    ">>> print list(product([1,2,3],[3,4]))\n",
    "[(1, 3), (1, 4), (2, 3), (2, 4), (3, 3), (3, 4)]\n",
    ">>>\n",
    ">>> A = [[1,2,3],[3,4,5]]\n",
    ">>> print list(product(*A))\n",
    "[(1, 3), (1, 4), (1, 5), (2, 3), (2, 4), (2, 5), (3, 3), (3, 4), (3, 5)]\n",
    ">>>\n",
    ">>> B = [[1,2,3],[3,4,5],[7,8]]\n",
    ">>> print list(product(*B))\n",
    "[(1, 3, 7), (1, 3, 8), (1, 4, 7), (1, 4, 8), (1, 5, 7), (1, 5, 8), (2, 3, 7), (2, 3, 8), (2, 4, 7), (2, 4, 8), (2, 5, 7), (2, 5, 8), (3, 3, 7), (3, 3, 8), (3, 4, 7), (3, 4, 8), (3, 5, 7), (3, 5, 8)]"
   ]
  },
  {
   "cell_type": "markdown",
   "metadata": {},
   "source": [
    "#### **TASK**\n",
    "\n",
    "You are given a two lists  and . Your task is to compute their cartesian product X.\n",
    "\n",
    "Example\n",
    "\n",
    "A = [1, 2]\n",
    "B = [3, 4]\n",
    "\n",
    "AxB = [(1, 3), (1, 4), (2, 3), (2, 4)]\n",
    "Note:  and  are sorted lists, and the cartesian product's tuples should be output in sorted order.\n",
    "\n",
    "**Input Format**\n",
    "\n",
    "The first line contains the space separated elements of list .\n",
    "The second line contains the space separated elements of list .\n",
    "\n",
    "Both lists have no duplicate integer elements.\n",
    "\n",
    "***Constraints***\n",
    "0 < A <30\n",
    "0 < B <30\n",
    "\n",
    "**Output Format**\n",
    "\n",
    "Output the space separated tuples of the cartesian product.\n",
    "\n",
    "**Sample Input**\n",
    "\n",
    " 1 2\n",
    " 3 4\n",
    "\n",
    "**Sample Output**\n",
    "\n",
    " (1, 3) (1, 4) (2, 3) (2, 4)\n",
    "\n"
   ]
  },
  {
   "cell_type": "code",
   "execution_count": 5,
   "metadata": {},
   "outputs": [],
   "source": [
    "from itertools import product\n",
    "A=list(map(int, input().split()))\n",
    "B=list(map(int, input().split()))\n",
    "lst2ret= list(product(A,B))\n",
    "cad2ret=\"\"\n",
    "for i in range(len(A)*len(B)):\n",
    "    cad2ret = cad2ret +\" \"+ str(lst2ret[i])\n",
    "print(cad2ret.strip())"
   ]
  }
 ],
 "metadata": {
  "kernelspec": {
   "display_name": "Python 3",
   "language": "python",
   "name": "python3"
  },
  "language_info": {
   "codemirror_mode": {
    "name": "ipython",
    "version": 3
   },
   "file_extension": ".py",
   "mimetype": "text/x-python",
   "name": "python",
   "nbconvert_exporter": "python",
   "pygments_lexer": "ipython3",
   "version": "3.11.4"
  }
 },
 "nbformat": 4,
 "nbformat_minor": 2
}
