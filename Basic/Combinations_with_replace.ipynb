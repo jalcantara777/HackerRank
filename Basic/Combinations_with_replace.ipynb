{
 "cells": [
  {
   "cell_type": "markdown",
   "metadata": {},
   "source": [
    "### ***itertools.combinations_with_replacement(iterable, r)***\n",
    "\n",
    "This tool returns  length subsequences of elements from the input iterable allowing individual elements to be repeated more than once.\n",
    "\n",
    "Combinations are emitted in lexicographic sorted order. So, if the input iterable is sorted, the combination tuples will be produced in sorted order.\n",
    "\n",
    "***Sample Code***\n",
    "\n",
    ">>> from itertools import combinations_with_replacement\n",
    ">>> \n",
    ">>> print list(combinations_with_replacement('12345',2))\n",
    "[('1', '1'), ('1', '2'), ('1', '3'), ('1', '4'), ('1', '5'), ('2', '2'), ('2', '3'), ('2', '4'), ('2', '5'), ('3', '3'), ('3', '4'), ('3', '5'), ('4', '4'), ('4', '5'), ('5', '5')]\n",
    ">>> \n",
    ">>> A = [1,1,3,3,3]\n",
    ">>> print list(combinations(A,2))\n",
    "[(1, 1), (1, 3), (1, 3), (1, 3), (1, 3), (1, 3), (1, 3), (3, 3), (3, 3), (3, 3)]\n",
    "\n",
    "### **TASK**\n",
    "\n",
    "You are given a string *S*.\n",
    "Your task is to print all possible size  replacement combinations of the string in lexicographic sorted order.\n",
    "\n",
    "**Input Format**\n",
    "\n",
    "A single line containing the string S and integer value *K* separated by a space.\n",
    "\n",
    "**Constraints**\n",
    "\n",
    "0 < k <= len (S)\n",
    "\n",
    "The string contains only UPPERCASE characters.\n",
    "\n",
    "**Output Format**\n",
    "\n",
    "Print the combinations with their replacements of string  on separate lines.\n",
    "\n",
    "**Sample Input**\n",
    "\n",
    "HACK 2\n",
    "\n",
    "**Sample Output**\n",
    "\n",
    "AA\n",
    "AC\n",
    "AH\n",
    "AK\n",
    "CC\n",
    "CH\n",
    "CK\n",
    "HH\n",
    "HK\n",
    "KK"
   ]
  },
  {
   "cell_type": "code",
   "execution_count": 2,
   "metadata": {},
   "outputs": [],
   "source": [
    "from itertools import combinations_with_replacement\n",
    "cad,k=input().split()\n",
    "cadlst=list(cad.upper())\n",
    "k=int(k)\n",
    "lst2ret=[]\n",
    "cadlst.sort()\n",
    "lstcomb= list(combinations_with_replacement(cadlst,k))\n",
    "lstcomb.sort()\n",
    "for j in range(len(lstcomb)):\n",
    "    cadaux=''.join(str(x) for x in lstcomb[j])\n",
    "    lst2ret.append(cadaux)\n",
    "for i in range(len(lst2ret)):\n",
    "    print(lst2ret[i])"
   ]
  }
 ],
 "metadata": {
  "kernelspec": {
   "display_name": "Python 3",
   "language": "python",
   "name": "python3"
  },
  "language_info": {
   "codemirror_mode": {
    "name": "ipython",
    "version": 3
   },
   "file_extension": ".py",
   "mimetype": "text/x-python",
   "name": "python",
   "nbconvert_exporter": "python",
   "pygments_lexer": "ipython3",
   "version": "3.11.4"
  }
 },
 "nbformat": 4,
 "nbformat_minor": 2
}
