{
 "cells": [
  {
   "attachments": {
    "image.png": {
     "image/png": "[encoded data removed]"
    }
   },
   "cell_type": "markdown",
   "metadata": {},
   "source": [
    "### **TASK**\n",
    "\n",
    "You are given a partial code that is used for generating the HackerRank Logo of variable thickness.\n",
    "Your task is to replace the blank (______) with rjust, ljust or center.\n",
    "\n",
    "**Input Format**\n",
    "\n",
    "A single line containing the thickness value for the logo.\n",
    "\n",
    "**Constraints**\n",
    "0 < thickness < 50\n",
    "The thickness must be an odd number.\n",
    "\n",
    "**Output Format**\n",
    "\n",
    "Output the desired logo.\n",
    "\n",
    "**Sample Input**\n",
    "\n",
    "5\n",
    "\n",
    "**Sample Output**\n",
    "\n",
    "![image.png](attachment:image.png)"
   ]
  },
  {
   "cell_type": "code",
   "execution_count": 20,
   "metadata": {},
   "outputs": [
    {
     "name": "stdout",
     "output_type": "stream",
     "text": [
      "The number is not odd and less than 50. Try again\n",
      "The number is not odd and less than 50. Try again\n",
      "  H  \n",
      " HHH \n",
      "HHHHH\n",
      " HHH         HHH \n",
      " HHH         HHH \n",
      " HHH         HHH \n",
      " HHH         HHH \n",
      " HHHHHHHHHHHHHHH \n",
      " HHHHHHHHHHHHHHH \n",
      " HHH         HHH \n",
      " HHH         HHH \n",
      " HHH         HHH \n",
      " HHH         HHH \n",
      "            HHHHH\n",
      "             HHH \n",
      "              H  \n"
     ]
    }
   ],
   "source": [
    "while True:\n",
    "    try:\n",
    "        thickness = int(input(\"Enter a odd number greather than 2 and less than 50: \"))\n",
    "        if thickness < 50 and thickness % 2 != 0:\n",
    "            width=thickness*2-1\n",
    "            for i in range(1,thickness+1):\n",
    "                strline='H'*(i*2-1)\n",
    "                print(strline.center(width,' '))\n",
    "            for i in range(1,thickness+2):\n",
    "                strline='H'*thickness\n",
    "                print(strline.center(width,' ')+' '*(width+2)+strline.center(width,' '))\n",
    "            for i in range(1,int((thickness+1)/2)+1):\n",
    "                strline='H'*(thickness*5)\n",
    "                print(strline.center(thickness*6-1,' '))\n",
    "            for i in range(1,thickness+2):\n",
    "                strline='H'*thickness\n",
    "                print(strline.center(width,' ')+' '*(width+2)+strline.center(width,' '))\n",
    "            for i in range(thickness,0,-1):\n",
    "                strline='H'*(i*2-1)\n",
    "                print(' '*(thickness*4)+strline.center(width,' '))\n",
    "            break\n",
    "        else:\n",
    "            print(\"The number is not odd and less than 50. Try again\")\n",
    "    except ValueError:\n",
    "        print(\"Invalid input. Please enter a number\")\n"
   ]
  }
 ],
 "metadata": {
  "kernelspec": {
   "display_name": "Python 3",
   "language": "python",
   "name": "python3"
  },
  "language_info": {
   "codemirror_mode": {
    "name": "ipython",
    "version": 3
   },
   "file_extension": ".py",
   "mimetype": "text/x-python",
   "name": "python",
   "nbconvert_exporter": "python",
   "pygments_lexer": "ipython3",
   "version": "3.11.4"
  }
 },
 "nbformat": 4,
 "nbformat_minor": 2
}
