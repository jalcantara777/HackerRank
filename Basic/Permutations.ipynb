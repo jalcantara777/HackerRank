{
 "cells": [
  {
   "cell_type": "markdown",
   "metadata": {},
   "source": [
    "#### ***ITERTOOLS.PERMUTATIONS***\n",
    "\n",
    "This tool returns successive  length permutations of elements in an iterable.\n",
    "\n",
    "If  is not specified or is None, then  defaults to the length of the iterable, and all possible full length permutations are generated.\n",
    "\n",
    "Permutations are printed in a lexicographic sorted order. So, if the input iterable is sorted, the permutation tuples will be produced in a sorted order.\n",
    "\n",
    ">>> from itertools import permutations\n",
    ">>> print permutations(['1','2','3'])\n",
    "<itertools.permutations object at 0x02A45210>\n",
    ">>> \n",
    ">>> print list(permutations(['1','2','3']))\n",
    "[('1', '2', '3'), ('1', '3', '2'), ('2', '1', '3'), ('2', '3', '1'), ('3', '1', '2'), ('3', '2', '1')]\n",
    ">>> \n",
    ">>> print list(permutations(['1','2','3'],2))\n",
    "[('1', '2'), ('1', '3'), ('2', '1'), ('2', '3'), ('3', '1'), ('3', '2')]\n",
    ">>>\n",
    ">>> print list(permutations('abc',3))\n",
    "[('a', 'b', 'c'), ('a', 'c', 'b'), ('b', 'a', 'c'), ('b', 'c', 'a'), ('c', 'a', 'b'), ('c', 'b', 'a')]"
   ]
  },
  {
   "cell_type": "markdown",
   "metadata": {},
   "source": [
    "#### **TASK**\n",
    "\n",
    "You are given a two lists  and . Your task is to compute their cartesian product X.\n",
    "\n",
    "Example\n",
    "\n",
    "A = [1, 2]\n",
    "B = [3, 4]\n",
    "\n",
    "AxB = [(1, 3), (1, 4), (2, 3), (2, 4)]\n",
    "Note:  and  are sorted lists, and the cartesian product's tuples should be output in sorted order.\n",
    "\n",
    "**Input Format**\n",
    "\n",
    "The first line contains the space separated elements of list .\n",
    "The second line contains the space separated elements of list .\n",
    "\n",
    "Both lists have no duplicate integer elements.\n",
    "\n",
    "***Constraints***\n",
    "0 < A <30\n",
    "0 < B <30\n",
    "\n",
    "**Output Format**\n",
    "\n",
    "Output the space separated tuples of the cartesian product.\n",
    "\n",
    "**Sample Input**\n",
    "\n",
    " 1 2\n",
    " 3 4\n",
    "\n",
    "**Sample Output**\n",
    "\n",
    " (1, 3) (1, 4) (2, 3) (2, 4)\n",
    "\n"
   ]
  },
  {
   "cell_type": "code",
   "execution_count": 24,
   "metadata": {},
   "outputs": [
    {
     "name": "stdout",
     "output_type": "stream",
     "text": [
      "AC\n",
      "AH\n",
      "AK\n",
      "CA\n",
      "CH\n",
      "CK\n",
      "HA\n",
      "HC\n",
      "HK\n",
      "KA\n",
      "KC\n",
      "KH\n"
     ]
    }
   ],
   "source": [
    "from itertools import permutations\n",
    "cad=input().upper()\n",
    "k=int(input())\n",
    "lstperm= list(permutations(cad,k))\n",
    "lst2ret=[]\n",
    "for i in range(len(lstperm)):\n",
    "    cadaux=''.join(str(x) for x in lstperm[i])\n",
    "    lst2ret.append(cadaux)\n",
    "lst2ret.sort()\n",
    "for i in range(len(lst2ret)):\n",
    "    print(lst2ret[i])"
   ]
  },
  {
   "cell_type": "markdown",
   "metadata": {},
   "source": [
    "#### ***DISCLAIMER***\n",
    "\n",
    "NO ENTIENDO por qué no pasa mi código si está bien. La única explicación posible sería la de la versión del Kernel, tal como pasó con la función Hash()."
   ]
  }
 ],
 "metadata": {
  "kernelspec": {
   "display_name": "Python 3",
   "language": "python",
   "name": "python3"
  },
  "language_info": {
   "codemirror_mode": {
    "name": "ipython",
    "version": 3
   },
   "file_extension": ".py",
   "mimetype": "text/x-python",
   "name": "python",
   "nbconvert_exporter": "python",
   "pygments_lexer": "ipython3",
   "version": "3.11.4"
  }
 },
 "nbformat": 4,
 "nbformat_minor": 2
}
