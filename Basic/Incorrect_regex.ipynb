{
 "cells": [
  {
   "cell_type": "markdown",
   "metadata": {},
   "source": [
    "## **TASK**\n",
    "\n",
    "You are given a string S.\n",
    "Your task is to find out whether S is a valid regex or not.\n",
    "\n",
    "**Input Format**\n",
    "\n",
    "The first line contains integer T, the number of test cases.\n",
    "The next  lines contains the string S.\n",
    "\n",
    "**Constraints**\n",
    "\n",
    "0 < T < 100\n",
    "\n",
    "**Output Format**\n",
    "\n",
    "Print \"True\" or \"False\" for each test case without quotes.\n",
    "\n",
    "**Sample Input**\n",
    "\n",
    "2\n",
    ".*\\+\n",
    ".*+\n",
    "\n",
    "**Sample Output**\n",
    "\n",
    "True\n",
    "False"
   ]
  },
  {
   "cell_type": "code",
   "execution_count": 10,
   "metadata": {},
   "outputs": [],
   "source": [
    "import re"
   ]
  },
  {
   "cell_type": "code",
   "execution_count": null,
   "metadata": {},
   "outputs": [],
   "source": [
    "t=int(input())\n",
    "\n",
    "for i in range(t):\n",
    "    regex=input()\n",
    "    try:\n",
    "        test=re.findall(regex,\"Cristo te ama\")\n",
    "        print('True')\n",
    "    except re.error as e:\n",
    "        print('False')"
   ]
  }
 ],
 "metadata": {
  "kernelspec": {
   "display_name": "Python 3",
   "language": "python",
   "name": "python3"
  },
  "language_info": {
   "codemirror_mode": {
    "name": "ipython",
    "version": 3
   },
   "file_extension": ".py",
   "mimetype": "text/x-python",
   "name": "python",
   "nbconvert_exporter": "python",
   "pygments_lexer": "ipython3",
   "version": "3.11.4"
  }
 },
 "nbformat": 4,
 "nbformat_minor": 2
}
