{
 "cells": [
  {
   "cell_type": "markdown",
   "metadata": {},
   "source": [
    "### **TASK**\n",
    "\n",
    "You and Fredrick are good friends. Yesterday, Fredrick received *N* credit cards from ABCD Bank. He wants to verify whether his credit card numbers are valid or not. You happen to be great at regex so he is asking for your help!\n",
    "\n",
    "A valid credit card from ABCD Bank has the following characteristics:\n",
    "\n",
    "► It must start with a 4, 5 or 6.\n",
    "► It must contain exactly 16 digits.\n",
    "► It must only consist of digits (0-9).\n",
    "► It may have digits in groups of 4, separated by one hyphen \"-\".\n",
    "► It must NOT use any other separator like ' ' , '_', etc.\n",
    "► It must NOT have 4 or more consecutive repeated digits.\n",
    "\n",
    "Examples:\n",
    "\n",
    "**Valid Credit Card Numbers**\n",
    "\n",
    "4253625879615786\n",
    "4424424424442444\n",
    "5122-2368-7954-3214\n",
    "Invalid Credit Card Numbers\n",
    "\n",
    "42536258796157867       #17 digits in card number → Invalid \n",
    "4424444424442444        #Consecutive digits are repeating 4 or more times → Invalid\n",
    "5122-2368-7954 - 3214   #Separators other than '-' are used → Invalid\n",
    "44244x4424442444        #Contains non digit characters → Invalid\n",
    "0525362587961578        #Doesn't start with 4, 5 or 6 → Invalid\n",
    "\n",
    "**Input Format**\n",
    "\n",
    "The first line of input contains an integer *N*.\n",
    "The next *N* lines contain credit card numbers.\n",
    "\n",
    "**Constraints**\n",
    "\n",
    "\n",
    "**Output Format**\n",
    "\n",
    "Print 'Valid' if the credit card number is valid. Otherwise, print 'Invalid'. Do not print the quotes.\n",
    "\n",
    "**Sample Input**\n",
    "\n",
    "6\n",
    "4123456789123456\n",
    "5123-4567-8912-3456\n",
    "61234-567-8912-3456\n",
    "4123356789123456\n",
    "5133-3367-8912-3456\n",
    "5123 - 3567 - 8912 - 3456\n",
    "\n",
    "**Sample Output**\n",
    "\n",
    "Valid\n",
    "Valid\n",
    "Invalid\n",
    "Valid\n",
    "Invalid\n",
    "Invalid\n",
    "\n",
    "**Explanation**\n",
    "\n",
    "4123456789123456 : Valid\n",
    "5123-4567-8912-3456 : Valid\n",
    "61234--8912-3456 : Invalid, because the card number is not divided into equal groups of 4.\n",
    "4123356789123456 : Valid\n",
    "51*33*-*33*67-8912-3456 : Invalid, consecutive digits 3333 is repeating 4 times.\n",
    "5123456789123456 : Invalid, because space '  ' and - are used as separators."
   ]
  },
  {
   "cell_type": "code",
   "execution_count": 2,
   "metadata": {},
   "outputs": [],
   "source": [
    "import re"
   ]
  },
  {
   "cell_type": "code",
   "execution_count": 9,
   "metadata": {},
   "outputs": [
    {
     "name": "stdout",
     "output_type": "stream",
     "text": [
      "Invalid\n"
     ]
    }
   ],
   "source": [
    "N = int(input())\n",
    "for i in range(N):\n",
    "    cc_number = input()\n",
    "    cc_numsiz = len(cc_number)\n",
    "    if (cc_number.isdigit() and cc_numsiz!=16) or (not cc_number.isdigit() and ((not re.match(r\"^[0-9-]+$\", cc_number) or cc_numsiz!=19))) or (cc_number[0] not in '456'):\n",
    "        print('Invalid')\n",
    "    else:\n",
    "        cc_valid  = True\n",
    "        cc_numall = cc_number.replace(\"-\",\"\")\n",
    "        for j in range(13):\n",
    "            digit = cc_numall[j]\n",
    "            if digit*4==cc_numall[j:j+4]:\n",
    "                cc_valid  = False\n",
    "                break\n",
    "        if cc_valid:\n",
    "            print('Valid')            \n",
    "        else:\n",
    "            print('Invalid')"
   ]
  }
 ],
 "metadata": {
  "kernelspec": {
   "display_name": "Python 3",
   "language": "python",
   "name": "python3"
  },
  "language_info": {
   "codemirror_mode": {
    "name": "ipython",
    "version": 3
   },
   "file_extension": ".py",
   "mimetype": "text/x-python",
   "name": "python",
   "nbconvert_exporter": "python",
   "pygments_lexer": "ipython3",
   "version": "3.11.4"
  }
 },
 "nbformat": 4,
 "nbformat_minor": 2
}
