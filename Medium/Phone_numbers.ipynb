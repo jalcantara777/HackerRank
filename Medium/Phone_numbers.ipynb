{
 "cells": [
  {
   "cell_type": "markdown",
   "metadata": {},
   "source": [
    "### **TASK**\n",
    "\n",
    "Let's dive into the interesting topic of regular expressions! You are given some input, and you are required to check whether they are valid mobile numbers.\n",
    "\n",
    "**Concept**\n",
    "\n",
    "A valid mobile number is a ten digit number starting with a 7,8 or 9.\n",
    "\n",
    "**Input Format**\n",
    "\n",
    "The first line contains an integer , the number of inputs.\n",
    " lines follow, each containing some string.\n",
    "\n",
    "**Constraints**\n",
    "\n",
    "1 <= N <= 10 ; \n",
    "2 <= len(number) <= 15\n",
    "\n",
    "**Output Format**\n",
    "\n",
    "For every string listed, print \"YES\" if it is a valid mobile number and \"NO\" if it is not on separate lines. Do not print the quotes.\n",
    "\n",
    "**Sample Input**\n",
    "\n",
    "2 /\n",
    "9587456281 /\n",
    "1252478965\n",
    "\n",
    "**Sample Output**\n",
    "\n",
    "YES /\n",
    "NO"
   ]
  },
  {
   "cell_type": "code",
   "execution_count": 1,
   "metadata": {},
   "outputs": [],
   "source": [
    "import re"
   ]
  },
  {
   "cell_type": "code",
   "execution_count": 6,
   "metadata": {},
   "outputs": [
    {
     "name": "stdout",
     "output_type": "stream",
     "text": [
      "NO\n",
      "NO\n",
      "YES\n"
     ]
    }
   ],
   "source": [
    "N = int(input())\n",
    "for i in range(N):\n",
    "    if re.match(r\"^(7|8|9)\\d{9}$\", input()):\n",
    "        print('YES')\n",
    "    else:\n",
    "        print('NO')"
   ]
  }
 ],
 "metadata": {
  "kernelspec": {
   "display_name": "Python 3",
   "language": "python",
   "name": "python3"
  },
  "language_info": {
   "codemirror_mode": {
    "name": "ipython",
    "version": 3
   },
   "file_extension": ".py",
   "mimetype": "text/x-python",
   "name": "python",
   "nbconvert_exporter": "python",
   "pygments_lexer": "ipython3",
   "version": "3.11.4"
  }
 },
 "nbformat": 4,
 "nbformat_minor": 2
}
