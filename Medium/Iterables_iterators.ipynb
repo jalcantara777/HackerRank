{
 "cells": [
  {
   "cell_type": "markdown",
   "metadata": {},
   "source": [
    "### ***ITERTOOLS***\n",
    "\n",
    "The itertools module standardizes a core set of fast, memory efficient tools that are useful by themselves or in combination. Together, they form an iterator algebra making it possible to construct specialized tools succinctly and efficiently in pure Python.\n",
    "\n",
    "To read more about the functions in this module, check out their documentation here.\n",
    "\n",
    "You are given a list of *N* lowercase English letters. For a given integer *K*, you can select any *K* indices (assume *1*-based indexing) with a uniform probability from the list.\n",
    "\n",
    "Find the probability that at least one of the *K* indices selected will contain the letter: '*a*'.\n",
    "\n",
    "**Input Format**\n",
    "\n",
    "The input consists of three lines. The first line contains the integer *N*, denoting the length of the list. The next line consists of *N* space-separated lowercase English letters, denoting the elements of the list.\n",
    "\n",
    "The third and the last line of input contains the integer *K*, denoting the number of indices to be selected.\n",
    "\n",
    "**Output Format**\n",
    "\n",
    "Output a single line consisting of the probability that at least one of the *K* indices selected contains the letter:'*a*'.\n",
    "\n",
    "Note: The answer must be correct up to 3 decimal places.\n",
    "\n",
    "**Constraints**\n",
    "\n",
    "1 <= N <= 10\n",
    "\n",
    "1 <= K <= N\n",
    "\n",
    "\n",
    "All the letters in the list are lowercase English letters.\n",
    "\n",
    "**Sample Input**\n",
    "\n",
    "4 \n",
    "a a c d\n",
    "2\n",
    "\n",
    "**Sample Output**\n",
    "\n",
    "0.8333\n",
    "\n",
    "**Explanation**\n",
    "\n",
    "All possible unordered tuples of length  comprising of indices from  to  are:\n",
    "\n",
    "\n",
    "Out of these 6 combinations,  of them contain either index  or index  which are the indices that contain the letter 'a'.\n",
    "\n",
    "Hence, the answer is 5/6."
   ]
  },
  {
   "cell_type": "code",
   "execution_count": null,
   "metadata": {},
   "outputs": [],
   "source": []
  }
 ],
 "metadata": {
  "language_info": {
   "name": "python"
  }
 },
 "nbformat": 4,
 "nbformat_minor": 2
}
