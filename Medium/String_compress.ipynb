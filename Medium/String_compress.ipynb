{
 "cells": [
  {
   "cell_type": "markdown",
   "metadata": {},
   "source": [
    "### **TASK**\n",
    "\n",
    "In this task, we would like for you to appreciate the usefulness of the groupby() function of itertools . To read more about this function, Check this out .\n",
    "\n",
    "You are given a string *S*. Suppose a character '*c*' occurs consecutively *X* times in the string. Replace these consecutive occurrences of the character '*c*' with *(X,c)* in the string.\n",
    "\n",
    "For a better understanding of the problem, check the explanation.\n",
    "\n",
    "**Input Format**\n",
    "\n",
    "A single line of input consisting of the string *S*.\n",
    "\n",
    "**Output Format**\n",
    "\n",
    "A single line of output consisting of the modified string.\n",
    "\n",
    "**Constraints**\n",
    "\n",
    "All the characters of *S* denote integers between *0* and *9*.\n",
    "\n",
    "1 <= *S* <= 100000000\n",
    "\n",
    "**Sample Input**\n",
    "\n",
    "1222311\n",
    "\n",
    "**Sample Output**\n",
    "\n",
    "(1, 1) (3, 2) (1, 3) (2, 1)\n",
    "\n",
    "**Explanation**\n",
    "\n",
    "First, the character *1* occurs only once. It is replaced by *(1,1)*. Then the character *2* occurs three times, and it is replaced by *(3,2)* and so on.\n",
    "\n",
    "Also, note the single space within each compression and between the compressions."
   ]
  },
  {
   "cell_type": "code",
   "execution_count": 1,
   "metadata": {},
   "outputs": [],
   "source": [
    "from itertools import groupby"
   ]
  },
  {
   "cell_type": "code",
   "execution_count": 5,
   "metadata": {},
   "outputs": [
    {
     "data": {
      "text/plain": [
       "[('A', <itertools._grouper at 0x18982a7a650>),\n",
       " ('B', <itertools._grouper at 0x18982a7ad70>),\n",
       " ('C', <itertools._grouper at 0x18982a7ada0>),\n",
       " ('D', <itertools._grouper at 0x18982a793f0>),\n",
       " ('A', <itertools._grouper at 0x18982a79180>),\n",
       " ('B', <itertools._grouper at 0x18982a7b100>)]"
      ]
     },
     "execution_count": 5,
     "metadata": {},
     "output_type": "execute_result"
    }
   ],
   "source": [
    "list(groupby('AAAABBBCCDAABBB'))"
   ]
  },
  {
   "cell_type": "code",
   "execution_count": 4,
   "metadata": {},
   "outputs": [
    {
     "name": "stdout",
     "output_type": "stream",
     "text": [
      "k:A - list(g): 4\n",
      "k:B - list(g): 3\n",
      "k:C - list(g): 2\n",
      "k:D - list(g): 1\n",
      "k:A - list(g): 2\n",
      "k:B - list(g): 3\n"
     ]
    }
   ],
   "source": [
    "data = 'AAAABBBCCDAABBB'\n",
    "for k, g in groupby(data):\n",
    "    print(f'k:{k} - list(g): {len(list(g))}') "
   ]
  },
  {
   "cell_type": "code",
   "execution_count": 12,
   "metadata": {},
   "outputs": [
    {
     "name": "stdout",
     "output_type": "stream",
     "text": [
      "(1,1) (3,2) (1,3) (2,1)\n"
     ]
    }
   ],
   "source": [
    "data = '1222311'\n",
    "str2ret=''\n",
    "for k, g in groupby(data):\n",
    "    #print(f'({len(list(g))},{k})')\n",
    "    str2ret=str2ret+'('+str(len(list(g)))+','+str(k)+') '\n",
    "print(str2ret.rstrip())"
   ]
  }
 ],
 "metadata": {
  "kernelspec": {
   "display_name": "Python 3",
   "language": "python",
   "name": "python3"
  },
  "language_info": {
   "codemirror_mode": {
    "name": "ipython",
    "version": 3
   },
   "file_extension": ".py",
   "mimetype": "text/x-python",
   "name": "python",
   "nbconvert_exporter": "python",
   "pygments_lexer": "ipython3",
   "version": "3.11.4"
  }
 },
 "nbformat": 4,
 "nbformat_minor": 2
}
