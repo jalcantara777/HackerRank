{
 "cells": [
  {
   "cell_type": "markdown",
   "metadata": {},
   "source": [
    "### **TASK**\n",
    "\n",
    "In this task, we would like for you to appreciate the usefulness of the groupby() function of itertools . To read more about this function, Check this out .\n",
    "\n",
    "You are given a string *S*. Suppose a character '*c*' occurs consecutively *X* times in the string. Replace these consecutive occurrences of the character '*c*' with *(X,c)* in the string.\n",
    "\n",
    "For a better understanding of the problem, check the explanation.\n",
    "\n",
    "**Input Format**\n",
    "\n",
    "A single line of input consisting of the string *S*.\n",
    "\n",
    "**Output Format**\n",
    "\n",
    "A single line of output consisting of the modified string.\n",
    "\n",
    "**Constraints**\n",
    "\n",
    "All the characters of *S* denote integers between *0* and *9*.\n",
    "\n",
    "1 <= *S* <= 100000000\n",
    "\n",
    "**Sample Input**\n",
    "\n",
    "1222311\n",
    "\n",
    "**Sample Output**\n",
    "\n",
    "(1, 1) (3, 2) (1, 3) (2, 1)\n",
    "\n",
    "**Explanation**\n",
    "\n",
    "First, the character *1* occurs only once. It is replaced by *(1,1)*. Then the character *2* occurs three times, and it is replaced by *(3,2)* and so on.\n",
    "\n",
    "Also, note the single space within each compression and between the compressions."
   ]
  },
  {
   "cell_type": "code",
   "execution_count": null,
   "metadata": {},
   "outputs": [],
   "source": []
  }
 ],
 "metadata": {
  "language_info": {
   "name": "python"
  }
 },
 "nbformat": 4,
 "nbformat_minor": 2
}
