{
 "cells": [
  {
   "cell_type": "markdown",
   "metadata": {},
   "source": [
    "## ***MERGE THE TOOLS***\n",
    "\n",
    "Consider the following:\n",
    "\n",
    "A string S, of length N.\n",
    "An integer K , where K is a factor of N.\n",
    "We can split S into N/K substrings where each subtring, Ti consists of a contiguous block of K characters in S. Then, use each Ti to create string Ui such that:\n",
    "\n",
    "The characters in Ui are a subsequence of the characters in Ti.\n",
    "Any repeat occurrence of a character is removed from the string such that each character in Ui occurs exactly once. In other words, if the character at some index j in Ti occurs at a previous index < j in Ti, then do not include the character in string Ui.\n",
    "Given S and K, print N/K lines where each line i  denotes string Ui.\n",
    "\n",
    "***Example***\n",
    "\n",
    "S='AAABCADDE'\n",
    "K=3\n",
    "\n",
    "There are three substrings of length 3 to consider: 'AAA', 'BCA' and 'DDE'. The first substring is all 'A' characters, so U1='A'. The second substring has all distinct characters, so U2='BCA'. The third substring has 2 different characters, so U3='DE'. Note that a subsequence maintains the original order of characters encountered. The order of characters in each subsequence shown is important.\n",
    "\n",
    "### **TASK** \n",
    "\n",
    "Complete the merge_the_tools function in the editor below.\n",
    "\n",
    "***Function Description***\n",
    "\n",
    "merge_the_tools has the following parameters:\n",
    "\n",
    "string s: the string to analyze\n",
    "int k: the size of substrings to analyze\n",
    "\n",
    "**Prints**\n",
    "\n",
    "Print each subsequence on a new line. There will be  of them. No return value is expected.\n",
    "\n",
    "**Input Format**\n",
    "\n",
    "The first line contains a single string S.\n",
    "The second line contains an integer K , the length of each substring.\n",
    "\n",
    "**Constraints**\n",
    "\n",
    "- 1 <= N <= 10000, where N is the length of S.\n",
    "- 1 <= K <= N\n",
    "- It is guaranteed that N is a multiple of K.\n",
    "\n",
    "**Sample Input**\n",
    "\n",
    "STDIN       Function\n",
    "-----       --------\n",
    "AABCAAADA   s = 'AABCAAADA'\n",
    "3           k = 3\n",
    "\n",
    "**Sample Output**\n",
    "\n",
    "AB\n",
    "CA\n",
    "AD\n",
    "\n",
    "**Explanation**\n",
    "\n",
    "Split S into N/K=9/3=3 equal parts of length K=3. Convert each Ti to Ui by removing any subsequent occurrences of non-distinct characters in Ti:\n",
    "\n",
    "- T0 = 'AAB' -> U0 = 'AB'\n",
    "- T1 = 'CAA' -> U1 = 'CA'\n",
    "- T2 = 'ADA' -> U2 = 'AD'\n",
    "\n",
    "Print each Ui on a new line."
   ]
  },
  {
   "cell_type": "code",
   "execution_count": 8,
   "metadata": {},
   "outputs": [],
   "source": [
    "def unqchrs(string):\n",
    "    lst_unqchrs =[]\n",
    "    for i in range(len(string)):\n",
    "        if not string[i] in lst_unqchrs:\n",
    "            lst_unqchrs.append(string[i])\n",
    "    return ''.join(lst_unqchrs)"
   ]
  },
  {
   "cell_type": "code",
   "execution_count": 9,
   "metadata": {},
   "outputs": [],
   "source": [
    "# MODULAR VERSION\n",
    "def merge_the_tools(string, k):\n",
    "    # your code goes here\n",
    "    n=len(string)\n",
    "    numlines = int(n/k)\n",
    "    for i in range(numlines):\n",
    "        substr_t=string[i*k:(i+1)*k]\n",
    "        print(unqchrs(substr_t))"
   ]
  },
  {
   "cell_type": "code",
   "execution_count": 11,
   "metadata": {},
   "outputs": [],
   "source": [
    "# COMPACT VERSION\n",
    "def merge_the_tools(string, k):\n",
    "    # your code goes here\n",
    "    n=len(string)\n",
    "    numlines = int(n/k)\n",
    "    for i in range(numlines):\n",
    "        substr_t=string[i*k:(i+1)*k]\n",
    "        substr_u=substr_t[0]\n",
    "        for j in range(1,k):\n",
    "            if not substr_t[j] in substr_u:\n",
    "                substr_u=substr_u+substr_t[j]\n",
    "        print(substr_u)"
   ]
  },
  {
   "cell_type": "code",
   "execution_count": 12,
   "metadata": {},
   "outputs": [
    {
     "name": "stdout",
     "output_type": "stream",
     "text": [
      "A\n",
      "BCA\n",
      "DE\n"
     ]
    }
   ],
   "source": [
    "if __name__ == '__main__':\n",
    "    string, k = input(), int(input())\n",
    "    merge_the_tools(string, k)"
   ]
  }
 ],
 "metadata": {
  "kernelspec": {
   "display_name": "Python 3",
   "language": "python",
   "name": "python3"
  },
  "language_info": {
   "codemirror_mode": {
    "name": "ipython",
    "version": 3
   },
   "file_extension": ".py",
   "mimetype": "text/x-python",
   "name": "python",
   "nbconvert_exporter": "python",
   "pygments_lexer": "ipython3",
   "version": "3.11.4"
  }
 },
 "nbformat": 4,
 "nbformat_minor": 2
}
