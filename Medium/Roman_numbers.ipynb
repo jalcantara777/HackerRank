{
 "cells": [
  {
   "cell_type": "markdown",
   "metadata": {},
   "source": [
    "### **TASK**\n",
    "\n",
    "You are given a string, and you have to validate whether it's a valid Roman numeral. If it is valid, print True. Otherwise, print False. Try to create a regular expression for a valid Roman numeral.\n",
    "\n",
    "**Input Format**\n",
    "\n",
    "A single line of input containing a string of Roman characters.\n",
    "\n",
    "**Output Format**\n",
    "\n",
    "Output a single line containing True or False according to the instructions above.\n",
    "\n",
    "**Constraints**\n",
    "\n",
    "The number will be between 1 and 3999 (both included).\n",
    "\n",
    "**Sample Input**\n",
    "\n",
    "CDXXI\n",
    "\n",
    "**Sample Output**\n",
    "\n",
    "True"
   ]
  },
  {
   "cell_type": "code",
   "execution_count": null,
   "metadata": {},
   "outputs": [],
   "source": [
    "import re"
   ]
  },
  {
   "cell_type": "code",
   "execution_count": null,
   "metadata": {},
   "outputs": [],
   "source": [
    "regex_pattern = r\"IVXLCDM\"\n",
    "\n",
    "print(str(bool(re.match(regex_pattern, input()))))"
   ]
  }
 ],
 "metadata": {
  "language_info": {
   "name": "python"
  }
 },
 "nbformat": 4,
 "nbformat_minor": 2
}
