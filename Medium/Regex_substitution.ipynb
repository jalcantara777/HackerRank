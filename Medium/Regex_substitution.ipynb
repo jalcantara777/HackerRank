{
 "cells": [
  {
   "cell_type": "markdown",
   "metadata": {},
   "source": [
    "### **TASK**\n",
    "\n",
    "You are given a text of  lines. The text contains && and || symbols.\n",
    "Your task is to modify those symbols to the following:\n",
    "\n",
    "&& → and\n",
    "|| → or\n",
    "Both && and || should have a space \" \" on both sides.\n",
    "\n",
    "**Input Format**\n",
    "\n",
    "The first line contains the integer, .\n",
    "The next  lines each contain a line of the text.\n",
    "\n",
    "**Constraints**\n",
    "\n",
    "0 < N < 100\n",
    "\n",
    "Neither && nor || occur in the start or end of each line.\n",
    "\n",
    "**Output Format**\n",
    "\n",
    "Output the modified text.\n",
    "\n",
    "**Sample Input**\n",
    "\n",
    "11\n",
    "a = 1;\n",
    "b = input();\n",
    "\n",
    "if a + b > 0 && a - b < 0:\n",
    "    start()\n",
    "elif a*b > 10 || a/b < 1:\n",
    "    stop()\n",
    "print set(list(a)) | set(list(b)) \n",
    "#Note do not change &&& or ||| or & or |\n",
    "#Only change those '&&' which have space on both sides.\n",
    "#Only change those '|| which have space on both sides.\n",
    "\n",
    "**Sample Output**\n",
    "\n",
    "a = 1;\n",
    "b = input();\n",
    "\n",
    "if a + b > 0 and a - b < 0:\n",
    "    start()\n",
    "elif a*b > 10 or a/b < 1:\n",
    "    stop()\n",
    "print set(list(a)) | set(list(b)) \n",
    "#Note do not change &&& or ||| or & or |\n",
    "#Only change those '&&' which have space on both sides.\n",
    "#Only change those '|| which have space on both sides. "
   ]
  },
  {
   "cell_type": "code",
   "execution_count": 1,
   "metadata": {},
   "outputs": [],
   "source": [
    "import re"
   ]
  },
  {
   "cell_type": "code",
   "execution_count": 8,
   "metadata": {},
   "outputs": [
    {
     "name": "stdout",
     "output_type": "stream",
     "text": [
      "x&& &&& and and x or | ||\\|| x\n"
     ]
    }
   ],
   "source": [
    "numlines=int(input())\n",
    "for i in range(numlines):\n",
    "    print(re.sub(\"\\s\\|\\|\\s\",\" or \",re.sub(\"\\s&&\\s\",\" and \",re.sub(\"\\s&&\\s\",\" and \",input()))))"
   ]
  }
 ],
 "metadata": {
  "kernelspec": {
   "display_name": "Python 3",
   "language": "python",
   "name": "python3"
  },
  "language_info": {
   "codemirror_mode": {
    "name": "ipython",
    "version": 3
   },
   "file_extension": ".py",
   "mimetype": "text/x-python",
   "name": "python",
   "nbconvert_exporter": "python",
   "pygments_lexer": "ipython3",
   "version": "3.11.4"
  }
 },
 "nbformat": 4,
 "nbformat_minor": 2
}
