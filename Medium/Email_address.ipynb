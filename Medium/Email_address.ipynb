{
 "cells": [
  {
   "cell_type": "markdown",
   "metadata": {},
   "source": [
    "### ***EMAIL CRITERIA***\n",
    "\n",
    "A valid email address meets the following criteria:\n",
    "\n",
    "It's composed of a username, domain name, and extension assembled in this format: username@domain.extension\n",
    "The username starts with an English alphabetical character, and any subsequent characters consist of one or more of the following: alphanumeric characters, -,., and _.\n",
    "The domain and extension contain only English alphabetical characters.\n",
    "The extension is 1, 2, or 3 characters in length.\n",
    "Given ***n*** pairs of names and email addresses as input, print each name and email address pair having a valid email address on a new line.\n",
    "\n",
    "***Hint***: Try using Email.utils() to complete this challenge. For example, this code:\n",
    "\n",
    "import email.utils\n",
    "print email.utils.parseaddr('DOSHI <DOSHI@hackerrank.com>')\n",
    "print email.utils.formataddr(('DOSHI', 'DOSHI@hackerrank.com'))\n",
    "produces this output:\n",
    "\n",
    "('DOSHI', 'DOSHI@hackerrank.com')\n",
    "DOSHI <DOSHI@hackerrank.com>\n",
    "\n",
    "**Input Format**\n",
    "\n",
    "The first line contains a single integer ***n***, denoting the number of email address.\n",
    "Each line ***i*** of the ***n*** subsequent lines contains a name and an email address as two space-separated values following this format:\n",
    "\n",
    "name <user@email.com>\n",
    "\n",
    "**Constraints**\n",
    "\n",
    "0 < n < 100\n",
    "\n",
    "**Output Format**\n",
    "\n",
    "Print the space-separated name and email address pairs containing valid email addresses only. Each pair must be printed on a new line in the following format:\n",
    "\n",
    "name <user@email.com>\n",
    "\n",
    "### **TASK**\n",
    "\n",
    "You must print each valid email address in the same order as it was received as input.\n",
    "\n",
    "**Sample Input**\n",
    "\n",
    "2 /\n",
    "DEXTER <dexter@hotmail.com> /\n",
    "VIRUS <virus!@variable.:p>\n",
    "\n",
    "**Sample Output**\n",
    "\n",
    "DEXTER <dexter@hotmail.com>\n",
    "\n",
    "**Explanation**\n",
    "\n",
    "dexter@hotmail.com is a valid email address, so we print the name and email address pair received as input on a new line.\n",
    "virus!@variable.:p is not a valid email address because the username contains an exclamation point (!) and the extension contains a colon (:). As this email is not valid, we print nothing."
   ]
  },
  {
   "cell_type": "code",
   "execution_count": null,
   "metadata": {},
   "outputs": [],
   "source": []
  }
 ],
 "metadata": {
  "language_info": {
   "name": "python"
  }
 },
 "nbformat": 4,
 "nbformat_minor": 2
}
