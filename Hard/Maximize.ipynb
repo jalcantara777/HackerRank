{
 "cells": [
  {
   "cell_type": "markdown",
   "metadata": {},
   "source": [
    "\n",
    "### **TASK**\n",
    "\n",
    "You are given a function *f(X)= $X^2$*. You are also given *K* lists. The *i<sup>th</sup>* list consists of *N<sub>i</sub>* elements.\n",
    "\n",
    "You have to pick one element from each list so that the value from the equation below is maximized:\n",
    "\n",
    "*S=(f(X<sub>1</sub>) + f(X<sub>2</sub>) + ... + f(X<sub>k</sub>))%M*\n",
    "\n",
    "*X<sub>i</sub>*  denotes the element picked from the *i<sup>th</sup>* list . Find the maximized value *S<sub>max</sub>* obtained.\n",
    "\n",
    "*%* denotes the modulo operator.\n",
    "\n",
    "Note that you need to take exactly one element from each list, not necessarily the largest element. You add the squares of the chosen elements and perform the modulo operation. The maximum value that you can obtain, will be the answer to the problem.\n",
    "\n",
    "**Input Format**\n",
    "\n",
    "The first line contains 2 space separated integers *K* and *M*.\n",
    "The next *K* lines each contains an integer *N<sub>i</sub>*, denoting the number of elements in the *i<sup>th</sup>* list, followed by *N<sub>i</sub>* space separated integers denoting the elements in the list.\n",
    "\n",
    "**Constraints**\n",
    "\n",
    "- *1 <= K <= 7*\n",
    "- *1 <= M <= 1000*\n",
    "- *1 <= N<sub>i</sub> <= 7*\n",
    "- *1 <= magnitude of the elements of list <= $10^9$*\n",
    "\n",
    "\n",
    "\n",
    "**Output Format**\n",
    "\n",
    "Output a single integer denoting the value .\n",
    "\n",
    "**Sample Input**\n",
    "\n",
    "3 1000 //\n",
    "2 5 4 //\n",
    "3 7 8 9 // \n",
    "5 5 7 8 9 10 \n",
    "\n",
    "**Sample Output**\n",
    "\n",
    "206\n",
    "\n",
    "**Explanation**\n",
    "\n",
    "Picking 5 from the 1st list, 9 from the 2nd list and 10 from the 3rd list gives the maximum *S* value equal to ($5^2$+$9^2$+$10^2$)%1000 = 206."
   ]
  },
  {
   "cell_type": "code",
   "execution_count": null,
   "metadata": {},
   "outputs": [],
   "source": []
  }
 ],
 "metadata": {
  "language_info": {
   "name": "python"
  }
 },
 "nbformat": 4,
 "nbformat_minor": 2
}
