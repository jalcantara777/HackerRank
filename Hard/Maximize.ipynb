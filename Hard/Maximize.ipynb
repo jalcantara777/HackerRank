{
 "cells": [
  {
   "cell_type": "markdown",
   "metadata": {},
   "source": [
    "\n",
    "### **TASK**\n",
    "\n",
    "You are given a function *f(X)= $X^2$*. You are also given *K* lists. The *i<sup>th</sup>* list consists of *N<sub>i</sub>* elements.\n",
    "\n",
    "You have to pick one element from each list so that the value from the equation below is maximized:\n",
    "\n",
    "*S=(f(X<sub>1</sub>) + f(X<sub>2</sub>) + ... + f(X<sub>k</sub>))%M*\n",
    "\n",
    "*X<sub>i</sub>*  denotes the element picked from the *i<sup>th</sup>* list . Find the maximized value *S<sub>max</sub>* obtained.\n",
    "\n",
    "*%* denotes the modulo operator.\n",
    "\n",
    "Note that you need to take exactly one element from each list, not necessarily the largest element. You add the squares of the chosen elements and perform the modulo operation. The maximum value that you can obtain, will be the answer to the problem.\n",
    "\n",
    "**Input Format**\n",
    "\n",
    "The first line contains 2 space separated integers *K* and *M*.\n",
    "The next *K* lines each contains an integer *N<sub>i</sub>*, denoting the number of elements in the *i<sup>th</sup>* list, followed by *N<sub>i</sub>* space separated integers denoting the elements in the list.\n",
    "\n",
    "**Constraints**\n",
    "\n",
    "- *1 <= K <= 7*\n",
    "- *1 <= M <= 1000*\n",
    "- *1 <= N<sub>i</sub> <= 7*\n",
    "- *1 <= magnitude of the elements of list <= $10^9$*\n",
    "\n",
    "\n",
    "\n",
    "**Output Format**\n",
    "\n",
    "Output a single integer denoting the value .\n",
    "\n",
    "**Sample Input**\n",
    "\n",
    "3 1000 //\n",
    "2 5 4 //\n",
    "3 7 8 9 // \n",
    "5 5 7 8 9 10 \n",
    "\n",
    "**Sample Output**\n",
    "\n",
    "206\n",
    "\n",
    "**Explanation**\n",
    "\n",
    "Picking 5 from the 1st list, 9 from the 2nd list and 10 from the 3rd list gives the maximum *S* value equal to ($5^2$+$9^2$+$10^2$)%1000 = 206."
   ]
  },
  {
   "cell_type": "code",
   "execution_count": 13,
   "metadata": {},
   "outputs": [],
   "source": [
    "newlst=list(int(x) for x in input().split())"
   ]
  },
  {
   "cell_type": "code",
   "execution_count": 24,
   "metadata": {},
   "outputs": [],
   "source": [
    "k,m=input().split()\n",
    "k=int(k)\n",
    "m=int(m)\n",
    "lstall=[]\n",
    "for i in range(k):\n",
    "    lstall.append(list(int(x) for x in input().split()))"
   ]
  },
  {
   "cell_type": "code",
   "execution_count": 25,
   "metadata": {},
   "outputs": [
    {
     "data": {
      "text/plain": [
       "[[1, 2, 3], [4, 5, 6, 7, 10]]"
      ]
     },
     "execution_count": 25,
     "metadata": {},
     "output_type": "execute_result"
    }
   ],
   "source": [
    "lstall"
   ]
  },
  {
   "cell_type": "code",
   "execution_count": 26,
   "metadata": {},
   "outputs": [
    {
     "name": "stdout",
     "output_type": "stream",
     "text": [
      "lstall[0][0]: 1 - summa: 3\n",
      "lstall[0][1]: 2 - summa: 3\n",
      "lstall[0][2]: 3 - summa: 4\n",
      "lstall[1][0]: 4 - summa: 10\n",
      "lstall[1][1]: 5 - summa: 17\n",
      "lstall[1][2]: 6 - summa: 21\n",
      "lstall[1][3]: 7 - summa: 26\n",
      "lstall[1][4]: 10 - summa: 34\n"
     ]
    }
   ],
   "source": [
    "summa=0\n",
    "lstsum=[]\n",
    "for i in range(k):\n",
    "    for j in range(len(lstall[i])):\n",
    "        summa+=lstall[i][j]^2\n",
    "        print(f'lstall[{i}][{j}]: {lstall[i][j]} - summa: {summa}')\n"
   ]
  }
 ],
 "metadata": {
  "kernelspec": {
   "display_name": "Python 3",
   "language": "python",
   "name": "python3"
  },
  "language_info": {
   "codemirror_mode": {
    "name": "ipython",
    "version": 3
   },
   "file_extension": ".py",
   "mimetype": "text/x-python",
   "name": "python",
   "nbconvert_exporter": "python",
   "pygments_lexer": "ipython3",
   "version": "3.11.4"
  }
 },
 "nbformat": 4,
 "nbformat_minor": 2
}
