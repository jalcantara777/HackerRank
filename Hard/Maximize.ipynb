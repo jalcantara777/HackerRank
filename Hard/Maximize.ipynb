{
 "cells": [
  {
   "cell_type": "markdown",
   "metadata": {},
   "source": [
    "\n",
    "### **TASK**\n",
    "\n",
    "You are given a function *f(X)= $X^2$*. You are also given *K* lists. The *i<sup>th</sup>* list consists of *N<sub>i</sub>* elements.\n",
    "\n",
    "You have to pick one element from each list so that the value from the equation below is maximized:\n",
    "\n",
    "*S=(f(X<sub>1</sub>) + f(X<sub>2</sub>) + ... + f(X<sub>k</sub>))%M*\n",
    "\n",
    "*X<sub>i</sub>*  denotes the element picked from the *i<sup>th</sup>* list . Find the maximized value *S<sub>max</sub>* obtained.\n",
    "\n",
    "*%* denotes the modulo operator.\n",
    "\n",
    "Note that you need to take exactly one element from each list, not necessarily the largest element. You add the squares of the chosen elements and perform the modulo operation. The maximum value that you can obtain, will be the answer to the problem.\n",
    "\n",
    "**Input Format**\n",
    "\n",
    "The first line contains 2 space separated integers *K* and *M*.\n",
    "The next *K* lines each contains an integer *N<sub>i</sub>*, denoting the number of elements in the *i<sup>th</sup>* list, followed by *N<sub>i</sub>* space separated integers denoting the elements in the list.\n",
    "\n",
    "**Constraints**\n",
    "\n",
    "- *1 <= K <= 7*\n",
    "- *1 <= M <= 1000*\n",
    "- *1 <= N<sub>i</sub> <= 7*\n",
    "- *1 <= magnitude of the elements of list <= $10^9$*\n",
    "\n",
    "\n",
    "\n",
    "**Output Format**\n",
    "\n",
    "Output a single integer denoting the value .\n",
    "\n",
    "**Sample Input**\n",
    "\n",
    "3 1000 //\n",
    "2 5 4 //\n",
    "3 7 8 9 // \n",
    "5 5 7 8 9 10 \n",
    "\n",
    "**Sample Output**\n",
    "\n",
    "206\n",
    "\n",
    "**Explanation**\n",
    "\n",
    "Picking 5 from the 1st list, 9 from the 2nd list and 10 from the 3rd list gives the maximum *S* value equal to ($5^2$+$9^2$+$10^2$)%1000 = 206."
   ]
  },
  {
   "cell_type": "code",
   "execution_count": 18,
   "metadata": {},
   "outputs": [],
   "source": [
    "import itertools\n",
    "\n",
    "k,m=input().split()\n",
    "k=int(k)\n",
    "m=int(m)\n",
    "lstall=[]\n",
    "lstret=[]\n",
    "\n",
    "for i in range(k):\n",
    "    lstall.append(list(int(x) for x in input().split()))\n"
   ]
  },
  {
   "cell_type": "code",
   "execution_count": 19,
   "metadata": {},
   "outputs": [
    {
     "name": "stdout",
     "output_type": "stream",
     "text": [
      "206\n"
     ]
    }
   ],
   "source": [
    "## REQUIRED VERSION\n",
    "\n",
    "if k==1:\n",
    "    for i in range(1,len(lstall[0][1:])+1):\n",
    "        summa=lstall[0][i]**2\n",
    "        mod_i=summa%m\n",
    "        lstret.append(mod_i)\n",
    "else:\n",
    "    if k==2:\n",
    "        lstprod = list(itertools.product(lstall[0][1:],lstall[1][1:]))\n",
    "    if k==3:\n",
    "        lstprod = list(itertools.product(lstall[0][1:],lstall[1][1:],lstall[2][1:]))\n",
    "    if k==4:\n",
    "        lstprod = list(itertools.product(lstall[0][1:],lstall[1][1:],lstall[2][1:],lstall[3][1:]))\n",
    "    if k==5:\n",
    "        lstprod = list(itertools.product(lstall[0][1:],lstall[1][1:],lstall[2][1:],lstall[3][1:],lstall[4][1:]))\n",
    "    if k==6:\n",
    "        lstprod = list(itertools.product(lstall[0][1:],lstall[1][1:],lstall[2][1:],lstall[3][1:],lstall[4][1:],lstall[5][1:]))\n",
    "    if k==7:\n",
    "        lstprod = list(itertools.product(lstall[0][1:],lstall[1][1:],lstall[2][1:],lstall[3][1:],lstall[4][1:],lstall[5][1:],lstall[6][1:]))\n",
    "\n",
    "    for elem in lstprod:\n",
    "        summa=0\n",
    "        for i in range(len(elem)):\n",
    "            summa+=(elem[i])**2\n",
    "            # print(f'elem[{i}]:{elem[i]}-summa:{summa}')\n",
    "        mod_i=summa%m\n",
    "        lstret.append(mod_i)\n",
    "\n",
    "print(max(lstret))\n"
   ]
  },
  {
   "cell_type": "code",
   "execution_count": 17,
   "metadata": {},
   "outputs": [
    {
     "data": {
      "text/plain": [
       "[(5, 7, 5),\n",
       " (5, 7, 7),\n",
       " (5, 7, 8),\n",
       " (5, 7, 9),\n",
       " (5, 7, 10),\n",
       " (5, 8, 5),\n",
       " (5, 8, 7),\n",
       " (5, 8, 8),\n",
       " (5, 8, 9),\n",
       " (5, 8, 10),\n",
       " (5, 9, 5),\n",
       " (5, 9, 7),\n",
       " (5, 9, 8),\n",
       " (5, 9, 9),\n",
       " (5, 9, 10),\n",
       " (4, 7, 5),\n",
       " (4, 7, 7),\n",
       " (4, 7, 8),\n",
       " (4, 7, 9),\n",
       " (4, 7, 10),\n",
       " (4, 8, 5),\n",
       " (4, 8, 7),\n",
       " (4, 8, 8),\n",
       " (4, 8, 9),\n",
       " (4, 8, 10),\n",
       " (4, 9, 5),\n",
       " (4, 9, 7),\n",
       " (4, 9, 8),\n",
       " (4, 9, 9),\n",
       " (4, 9, 10)]"
      ]
     },
     "execution_count": 17,
     "metadata": {},
     "output_type": "execute_result"
    }
   ],
   "source": [
    "lstprod"
   ]
  },
  {
   "cell_type": "code",
   "execution_count": 10,
   "metadata": {},
   "outputs": [
    {
     "data": {
      "text/plain": [
       "2"
      ]
     },
     "execution_count": 10,
     "metadata": {},
     "output_type": "execute_result"
    }
   ],
   "source": [
    "len(lstall[0][1:])"
   ]
  },
  {
   "cell_type": "code",
   "execution_count": 12,
   "metadata": {},
   "outputs": [
    {
     "name": "stdout",
     "output_type": "stream",
     "text": [
      "La suma de los cuadrados de (5, 9, 10) generan un resto MÁXIMO de 206 al dividirse por 1000\n"
     ]
    }
   ],
   "source": [
    "## ENHANCED VERSION: Returns a tuple with squared numbers and max mod\n",
    "\n",
    "if k==1:\n",
    "    for i in range(1,len(lstall[0][1:])+1):\n",
    "        summa=lstall[0][i]**2\n",
    "        mod_i=summa%m\n",
    "        lstret.append((i,mod_i))\n",
    "else:\n",
    "    if k==2:\n",
    "        lstprod = list(itertools.product(lstall[0][1:],lstall[1][1:]))\n",
    "    if k==3:\n",
    "        lstprod = list(itertools.product(lstall[0][1:],lstall[1][1:],lstall[2][1:]))\n",
    "    if k==4:\n",
    "        lstprod = list(itertools.product(lstall[0][1:],lstall[1][1:],lstall[2][1:],lstall[3][1:]))\n",
    "    if k==5:\n",
    "        lstprod = list(itertools.product(lstall[0][1:],lstall[1][1:],lstall[2][1:],lstall[3][1:],lstall[4][1:]))\n",
    "    if k==6:\n",
    "        lstprod = list(itertools.product(lstall[0][1:],lstall[1][1:],lstall[2][1:],lstall[3][1:],lstall[4][1:],lstall[5][1:]))\n",
    "    if k==7:\n",
    "        lstprod = list(itertools.product(lstall[0][1:],lstall[1][1:],lstall[2][1:],lstall[3][1:],lstall[4][1:],lstall[5][1:],lstall[6][1:]))\n",
    "\n",
    "    for elem in lstprod:\n",
    "        summa=0\n",
    "        for i in range(len(elem)):\n",
    "            summa+=(elem[i])**2\n",
    "        mod_i=summa%m\n",
    "        lstret.append((elem,mod_i))\n",
    "\n",
    "max_tuple = max(lstret, key=lambda x: x[1])\n",
    "print(f'La suma de los cuadrados de {max_tuple[0]} generan un resto MÁXIMO de {max_tuple[1]} al dividirse por {m}')\n"
   ]
  }
 ],
 "metadata": {
  "kernelspec": {
   "display_name": "Python 3",
   "language": "python",
   "name": "python3"
  },
  "language_info": {
   "codemirror_mode": {
    "name": "ipython",
    "version": 3
   },
   "file_extension": ".py",
   "mimetype": "text/x-python",
   "name": "python",
   "nbconvert_exporter": "python",
   "pygments_lexer": "ipython3",
   "version": "3.11.4"
  }
 },
 "nbformat": 4,
 "nbformat_minor": 2
}
